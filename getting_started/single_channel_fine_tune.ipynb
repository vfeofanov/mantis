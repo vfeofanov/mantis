{
 "cells": [
  {
   "cell_type": "markdown",
   "metadata": {},
   "source": [
    "## Read data"
   ]
  },
  {
   "cell_type": "markdown",
   "metadata": {},
   "source": [
    "demonstration data set from the UEA collection"
   ]
  },
  {
   "cell_type": "code",
   "execution_count": 2,
   "metadata": {},
   "outputs": [
    {
     "name": "stdout",
     "output_type": "stream",
     "text": [
      "X_train dims:  (208, 1, 360)\n",
      "X_test dims:  (130, 1, 360)\n"
     ]
    }
   ],
   "source": [
    "import numpy as np\n",
    "\n",
    "data = [np.load(f'../data/GestureMidAirD1/{variable}_{set_name}.npy')\n",
    "        for variable in ['X', 'y'] for set_name in ['train', 'test']]\n",
    "\n",
    "X_train, X_test, y_train, y_test = data\n",
    "\n",
    "print(\"X_train dims: \", X_train.shape)\n",
    "print(\"X_test dims: \", X_test.shape)"
   ]
  },
  {
   "cell_type": "markdown",
   "metadata": {},
   "source": [
    "in order to apply the foundation model to your data, `X_train` and `X_test` should be of the shape `(n_samples, n_channels=1, seq_len)`, where `seq_len` is a multiple of 32\n",
    "\n",
    "if original sequence length is different, resize it, for example, using the following function:"
   ]
  },
  {
   "cell_type": "code",
   "execution_count": 4,
   "metadata": {},
   "outputs": [
    {
     "name": "stdout",
     "output_type": "stream",
     "text": [
      "X_train dims:  (208, 1, 512)\n",
      "X_test dims:  (130, 1, 512)\n"
     ]
    }
   ],
   "source": [
    "import torch\n",
    "import torch.nn.functional as F\n",
    "\n",
    "def resize(X):\n",
    "    X_scaled = F.interpolate(torch.tensor(X, dtype=torch.float), size=512, mode='linear', align_corners=False)\n",
    "    return X_scaled.numpy()\n",
    "    \n",
    "X_train, X_test = resize(X_train), resize(X_test)\n",
    "\n",
    "print(\"X_train dims: \", X_train.shape)\n",
    "print(\"X_test dims: \", X_test.shape)"
   ]
  },
  {
   "cell_type": "markdown",
   "metadata": {},
   "source": [
    "## Load model"
   ]
  },
  {
   "cell_type": "code",
   "execution_count": 14,
   "metadata": {},
   "outputs": [],
   "source": [
    "from mantis.architecture import Mantis8M\n",
    "    \n",
    "device = 'cpu' # set device\n",
    "network = Mantis8M(device=device) # init model\n",
    "network = network.from_pretrained(\"paris-noah/Mantis-8M\") # load weights"
   ]
  },
  {
   "cell_type": "markdown",
   "metadata": {},
   "source": [
    "## Fine-tune the network using MantisTrainer"
   ]
  },
  {
   "cell_type": "markdown",
   "metadata": {},
   "source": [
    "initialize the trainer and some arguments to pass during fine-tuning"
   ]
  },
  {
   "cell_type": "code",
   "execution_count": 15,
   "metadata": {},
   "outputs": [],
   "source": [
    "from mantis.trainer import MantisTrainer\n",
    "\n",
    "model = MantisTrainer(device=device, network=network)\n",
    "\n",
    "# initialize some training parameters\n",
    "def init_optimizer(params): return torch.optim.AdamW(\n",
    "    params, lr=2e-4, betas=(0.9, 0.999), weight_decay=0.05)"
   ]
  },
  {
   "cell_type": "markdown",
   "metadata": {},
   "source": [
    "### Fine-tuning a classification head"
   ]
  },
  {
   "cell_type": "code",
   "execution_count": 18,
   "metadata": {},
   "outputs": [
    {
     "name": "stderr",
     "output_type": "stream",
     "text": [
      "Epoch 99: Train Loss 2.5544: 100%|████████████████████████████████████████████████████| 100/100 [00:05<00:00, 17.17it/s]\n"
     ]
    }
   ],
   "source": [
    "fine_tuning_type = 'head'\n",
    "\n",
    "# fine-tune the model\n",
    "model.fit(X_train, y_train, num_epochs=100,\n",
    "            fine_tuning_type=fine_tuning_type, init_optimizer=init_optimizer)\n",
    "\n",
    "# predict labels\n",
    "y_pred = model.predict(X_test)"
   ]
  },
  {
   "cell_type": "code",
   "execution_count": 19,
   "metadata": {},
   "outputs": [
    {
     "name": "stdout",
     "output_type": "stream",
     "text": [
      "Accuracy on the test set is 0.35384615384615387\n"
     ]
    }
   ],
   "source": [
    "# evaluate performance\n",
    "print(f'Accuracy on the test set is {np.mean(y_test == y_pred)}')"
   ]
  },
  {
   "cell_type": "markdown",
   "metadata": {},
   "source": [
    "### Full fine-tuning"
   ]
  },
  {
   "cell_type": "code",
   "execution_count": 20,
   "metadata": {},
   "outputs": [
    {
     "name": "stderr",
     "output_type": "stream",
     "text": [
      "Epoch 99: Train Loss 0.1134: 100%|████████████████████████████████████████████████████| 100/100 [00:06<00:00, 15.82it/s]\n"
     ]
    }
   ],
   "source": [
    "fine_tuning_type = 'full'\n",
    "\n",
    "# fine-tune the model\n",
    "model.fit(X_train, y_train, num_epochs=100,\n",
    "            fine_tuning_type=fine_tuning_type, init_optimizer=init_optimizer)\n",
    "\n",
    "# predict labels\n",
    "y_pred = model.predict(X_test)"
   ]
  },
  {
   "cell_type": "code",
   "execution_count": 21,
   "metadata": {},
   "outputs": [
    {
     "name": "stdout",
     "output_type": "stream",
     "text": [
      "Accuracy on the test set is 0.7846153846153846\n"
     ]
    }
   ],
   "source": [
    "# evaluate performance\n",
    "print(f'Accuracy on the test set is {np.mean(y_test == y_pred)}')"
   ]
  }
 ],
 "metadata": {
  "kernelspec": {
   "display_name": "Python 3 (ipykernel)",
   "language": "python",
   "name": "python3"
  },
  "language_info": {
   "codemirror_mode": {
    "name": "ipython",
    "version": 3
   },
   "file_extension": ".py",
   "mimetype": "text/x-python",
   "name": "python",
   "nbconvert_exporter": "python",
   "pygments_lexer": "ipython3",
   "version": "3.9.19"
  }
 },
 "nbformat": 4,
 "nbformat_minor": 4
}
